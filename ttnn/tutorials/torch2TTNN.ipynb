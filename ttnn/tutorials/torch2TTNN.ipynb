{
 "cells": [
  {
   "cell_type": "markdown",
   "id": "d326abce-ada9-4a70-8297-035122d654a2",
   "metadata": {},
   "source": [
    "# Torch Model"
   ]
  },
  {
   "cell_type": "code",
   "execution_count": 5,
   "id": "8a0031a1-b83d-4373-9859-48d07dfd3d0a",
   "metadata": {},
   "outputs": [],
   "source": [
    "# From transformers.models.bert.modeling_bert.BertIntermediate\n",
    "# https://github.com/huggingface/transformers/blob/main/src/transformers/models/bert/modeling_bert.py or https://huggingface.co/transformers/v2.5.0/_modules/transformers/modeling_bert.html (find BertIntermidiate here, we have modified it a bit here)\n",
    "\n",
    "import torch\n",
    "\n",
    "class BertIntermediate(torch.nn.Module):\n",
    "    def __init__(self, config):\n",
    "        super().__init__()\n",
    "        self.dense = torch.nn.Linear(config.hidden_size, config.intermediate_size)\n",
    "\n",
    "    def forward(self, hidden_states):\n",
    "        hidden_states = self.dense(hidden_states)\n",
    "        hidden_states = torch.nn.functional.gelu(hidden_states)\n",
    "        return hidden_states\n"
   ]
  },
  {
   "cell_type": "markdown",
   "id": "4bcfeb90-7cfa-4579-a505-7050ba36ded5",
   "metadata": {},
   "source": [
    "# And finally, the model can be rewritten using functional torch APIs to make the test pass:"
   ]
  },
  {
   "cell_type": "code",
   "execution_count": 6,
   "id": "bce6f467-62f5-474d-9873-91f1da60b2a5",
   "metadata": {},
   "outputs": [],
   "source": [
    "# torch_functional_bert.py\n",
    "\n",
    "def bert_intermediate(hidden_states, *, parameters):\n",
    "    hidden_states = hidden_states @ parameters.dense.weight\n",
    "    hidden_states = hidden_states + parameters.dense.bias\n",
    "    hidden_states = torch.nn.functional.gelu(hidden_states)\n",
    "    return hidden_states\n"
   ]
  },
  {
   "cell_type": "raw",
   "id": "e8e200b8-ad6d-49f3-aef7-ee12fcb5ca54",
   "metadata": {},
   "source": [
    "parameters is a dictionary which sets its keys as its attributes, so both parameters[\"dense\"][\"weight\"] and parameters.dense.weight are valid.\n",
    "\n",
    "The structure of parameters follows the structure of the model class. In this case, BertIntermediate has a single attribute dense, so parameters has a single attribute dense. And dense is a torch.nn.Linear object, so it in turn has two attributes weight and bias.\n",
    "\n"
   ]
  },
  {
   "cell_type": "markdown",
   "id": "259780f2-c280-4c4b-8feb-6c0650376c14",
   "metadata": {},
   "source": [
    "# Following TDD (Test-Driven Development), the first step is to write a test for the model:\n"
   ]
  },
  {
   "cell_type": "code",
   "execution_count": 7,
   "id": "bed8f093-4549-4ca7-b3d1-846224d15f7b",
   "metadata": {},
   "outputs": [],
   "source": [
    "def bert_intermediate(hidden_states, *, parameters):\n",
    "    hidden_states = hidden_states @ parameters.dense.weight\n",
    "    hidden_states = hidden_states + parameters.dense.bias\n",
    "    hidden_states = torch.nn.functional.gelu(hidden_states)\n",
    "    return hidden_states"
   ]
  },
  {
   "cell_type": "code",
   "execution_count": 8,
   "id": "ecf2194a-63a7-46d0-9ff8-9927bdb64467",
   "metadata": {},
   "outputs": [],
   "source": [
    "import pytest\n",
    "import torch\n",
    "import transformers\n",
    "\n",
    "import ttnn\n",
    "import sys\n",
    "#import os\n",
    "#current_path = os.getcwd()\n",
    "#print(\"the current path is: \", current_path)\n",
    "sys.path.append(\"/home/dvartanians/tt-metal-v0.41.0/tt-metal/models/experimental/functional_bert/reference\")\n",
    "import torch_functional_bert # implemented here: https://github.com/tenstorrent-metal/tt-metal/blob/main/models/experimental/functional_bert/reference/torch_functional_bert.py\n",
    "\n",
    "from models.utility_functions import torch_random\n",
    "from tests.ttnn.utils_for_testing import assert_with_pcc\n",
    "\n",
    "@pytest.mark.parametrize(\"model_name\", [\"phiyodr/bert-large-finetuned-squad2\"])\n",
    "@pytest.mark.parametrize(\"batch_size\", [1])\n",
    "@pytest.mark.parametrize(\"sequence_size\", [384])\n",
    "def test_bert_intermediate(model_name, batch_size, sequence_size):\n",
    "    torch.manual_seed(0)\n",
    "\n",
    "    config = transformers.BertConfig.from_pretrained(model_name)\n",
    "    model = transformers.models.bert.modeling_bert.BertIntermediate(config).eval()\n",
    "\n",
    "    torch_hidden_states = torch_random((batch_size, sequence_size, config.hidden_size), -0.1, 0.1, dtype=torch.float32)\n",
    "    torch_output = model(torch_hidden_states) # Golden output\n",
    "\n",
    "\n",
    "    # where is this function defined? \n",
    "    # must be the following:\n",
    "    from ttnn.model_preprocessing import preprocess_model_parameters\n",
    "    parameters = preprocess_model_parameters(\n",
    "        initialize_model=lambda: model, # Function to initialize the model\n",
    "        convert_to_ttnn=lambda *_: False, # Keep the weights as torch tensors\n",
    "    )\n",
    "\n",
    "    output = torch_functional_bert.bert_intermediate(\n",
    "        torch_hidden_states,\n",
    "        parameters=parameters,\n",
    "    )\n",
    "    #output = bert_intermediate(\n",
    "    #    torch_hidden_states,\n",
    "    #    parameters=parameters,\n",
    "    #)\n",
    "\n",
    "    \n",
    "    assert_with_pcc(torch_output, output, 0.9999)"
   ]
  },
  {
   "cell_type": "markdown",
   "id": "cf8336a6-8318-4dd7-81c3-265af73f5198",
   "metadata": {},
   "source": [
    "# Step 2 - Switching to ttnn ops"
   ]
  },
  {
   "cell_type": "raw",
   "id": "c677c4f8-4775-47cb-8849-7349c83c1c6c",
   "metadata": {},
   "source": [
    "Starting off with the test:"
   ]
  },
  {
   "cell_type": "code",
   "execution_count": 9,
   "id": "67505cf6-e5f7-4af0-bd7a-34a545ce9582",
   "metadata": {},
   "outputs": [],
   "source": [
    "import pytest\n",
    "import torch\n",
    "import transformers\n",
    "\n",
    "import ttnn\n",
    "sys.path.append(\"/home/dvartanians/tt-metal-v0.41.0/tt-metal/models/experimental/functional_bert/tt\")\n",
    "import ttnn_functional_bert\n",
    "\n",
    "from models.utility_functions import torch_random\n",
    "from tests.ttnn.utils_for_testing import assert_with_pcc\n",
    "\n",
    "@pytest.mark.parametrize(\"model_name\", [\"phiyodr/bert-large-finetuned-squad2\"])\n",
    "@pytest.mark.parametrize(\"batch_size\", [1])\n",
    "@pytest.mark.parametrize(\"sequence_size\", [384])\n",
    "def test_bert_intermediate(device, model_name, batch_size, sequence_size):\n",
    "    torch.manual_seed(0)\n",
    "\n",
    "    config = transformers.BertConfig.from_pretrained(model_name)\n",
    "    model = transformers.models.bert.modeling_bert.BertIntermediate(config).eval()\n",
    "\n",
    "    torch_hidden_states = torch_random((batch_size, sequence_size, config.hidden_size), -0.1, 0.1)\n",
    "    torch_output = model(torch_hidden_states)\n",
    "\n",
    "    parameters = preprocess_model_parameters(\n",
    "        initialize_model=lambda: model.to(torch.bfloat16),\n",
    "        device=device, # Device to put the parameters on\n",
    "    )\n",
    "\n",
    "    hidden_states = ttnn.from_torch(torch_hidden_states, dtype=ttnn.bfloat16)\n",
    "    hidden_states = ttnn.to_layout(hidden_states, ttnn.TILE_LAYOUT)\n",
    "    hidden_states = ttnn.to_device(hidden_states, device)\n",
    "    output = ttnn_functional_bert.bert_intermediate(\n",
    "        hidden_states,\n",
    "        parameters=parameters,\n",
    "    )\n",
    "\n",
    "    #output = bert_intermediate(\n",
    "    #    hidden_states,\n",
    "    #    parameters=parameters,\n",
    "    #)\n",
    "    output = ttnn.from_device(output)\n",
    "    output = ttnn.to_layout(output, ttnn.ROW_MAJOR_LAYOUT)\n",
    "    output = ttnn.to_torch(output)\n",
    "\n",
    "    assert_with_pcc(torch_output, output.to(torch_output.dtype), 0.999)"
   ]
  },
  {
   "cell_type": "markdown",
   "id": "33969f07-3d8b-4517-8b94-1ba0fb08d8a0",
   "metadata": {},
   "source": [
    "# Then implementing the function using ttnn operations:\n"
   ]
  },
  {
   "cell_type": "code",
   "execution_count": 10,
   "id": "524d47fe-7ce8-4f4f-b721-270b690bd40b",
   "metadata": {},
   "outputs": [],
   "source": [
    "# ttnn_functional_bert.py\n",
    "\n",
    "import ttnn\n",
    "\n",
    "def bert_intermediate(\n",
    "    hidden_states,\n",
    "    *,\n",
    "    parameters,\n",
    "):\n",
    "    output = hidden_states @ parameters.dense.weight\n",
    "    output = output + parameters.dense.bias\n",
    "    output = ttnn.gelu(output)\n",
    "    return output\n"
   ]
  },
  {
   "cell_type": "markdown",
   "id": "413a943f-7225-4f56-92b3-340b3d696e36",
   "metadata": {},
   "source": [
    "# Step 3 - Optimizing the model"
   ]
  },
  {
   "cell_type": "code",
   "execution_count": 11,
   "id": "adb9a541-db8f-4673-bb12-315ba4e9b043",
   "metadata": {},
   "outputs": [],
   "source": [
    "# ttnn_optimized_functional_bert.py\n",
    "\n",
    "import ttnn\n",
    "\n",
    "def bert_intermediate(\n",
    "    hidden_states,\n",
    "    *,\n",
    "    parameters,\n",
    "    num_cores_x,\n",
    "):\n",
    "    batch_size, *_ = hidden_states.shape\n",
    "\n",
    "    num_cores_x = 12\n",
    "    output = ttnn.linear(\n",
    "        hidden_states,\n",
    "        ff1_weight,\n",
    "        bias=ff1_bias,\n",
    "        memory_config=ttnn.L1_MEMORY_CONFIG, # Put the output into local core memory\n",
    "        core_grid=(batch_size, num_cores_x), # Specify manual core grid to get the best possible performance\n",
    "        activation=\"gelu\", # Fuse Gelu\n",
    "    )\n",
    "    return True"
   ]
  },
  {
   "cell_type": "markdown",
   "id": "b117cdec-2851-4d95-8f90-ccc21df57aeb",
   "metadata": {},
   "source": [
    "# More examples"
   ]
  },
  {
   "cell_type": "raw",
   "id": "c6b41619-b01b-4b1b-b5b7-8738d482a233",
   "metadata": {},
   "source": [
    "Additional examples can be found in:\n",
    "/tests/ttnn/integration_tests/bert/\n",
    "\n",
    "tests/ttnn/integration_tests/bloom/\n",
    "\n",
    "tests/ttnn/integration_tests/t5/\n",
    "\n",
    "tests/ttnn/integration_tests/whisper"
   ]
  },
  {
   "cell_type": "markdown",
   "id": "c96c1cfb-01ba-42b2-9e6c-79abe4c0359a",
   "metadata": {},
   "source": [
    "# Conv example"
   ]
  },
  {
   "cell_type": "code",
   "execution_count": 12,
   "id": "e07c94e9-30ac-4ac2-83d8-bf2b9a0d9e3b",
   "metadata": {},
   "outputs": [],
   "source": [
    "import torch\n",
    "import torch.nn.functional as F"
   ]
  },
  {
   "cell_type": "code",
   "execution_count": 13,
   "id": "011b4b3c-5a1f-4dc4-8456-70042960e85b",
   "metadata": {},
   "outputs": [],
   "source": [
    "# Conv functional in pytorch\n",
    "def convolution_layer(input_tensor, weight, bias, kernel_size=3, stride=1, padding=0):\n",
    "    # Check if the input tensor and weight have compatible shapes\n",
    "    if input_tensor.size(1) != weight.size(1):\n",
    "        raise ValueError(\"Input tensor and weight should have the same number of input channels\")\n",
    "    # Perform the convolution with bias and specified kernel size\n",
    "    conv_result = F.conv2d(input_tensor, weight, bias=bias, stride=stride, padding=padding)\n",
    "    return conv_result"
   ]
  },
  {
   "cell_type": "code",
   "execution_count": 14,
   "id": "c3d7f8c6-8e32-459e-a9b5-95c97ad1f897",
   "metadata": {},
   "outputs": [
    {
     "name": "stdout",
     "output_type": "stream",
     "text": [
      "Convolution Result Shape: torch.Size([4, 16, 1056, 160])\n"
     ]
    }
   ],
   "source": [
    "# Example usage\n",
    "batch_size = 4\n",
    "input_channels = 3\n",
    "output_channels = 16\n",
    "input_height = 1056\n",
    "input_width = 160\n",
    "# Initialize input tensor, weight, and bias\n",
    "input_tensor = torch.randn((batch_size, input_channels, input_height, input_width))\n",
    "#kernel_size = 3\n",
    "weight = torch.randn((output_channels, input_channels, 3, 3))\n",
    "bias = torch.randn((output_channels,))\n",
    "# Specify kernel size\n",
    "# Apply convolution layer with bias and kernel size\n",
    "conv_result = convolution_layer(input_tensor, weight, bias, stride=1, padding=1)\n",
    "# Print the result shape\n",
    "print(\"Convolution Result Shape:\", conv_result.shape)\n"
   ]
  },
  {
   "cell_type": "code",
   "execution_count": 15,
   "id": "9bd33a32-809b-43a6-a394-2e6f0ff7421f",
   "metadata": {},
   "outputs": [
    {
     "name": "stdout",
     "output_type": "stream",
     "text": [
      "\u001b[38;2;000;128;000m                  Metal\u001b[0m | \u001b[1m\u001b[38;2;100;149;237mINFO    \u001b[0m | Initializing device 0\n",
      "\u001b[38;2;000;128;000m                 Device\u001b[0m | \u001b[1m\u001b[38;2;100;149;237mINFO    \u001b[0m | Opening user mode device driver\n",
      "\u001b[32m2024-01-23 20:20:58.551\u001b[0m | \u001b[1m\u001b[38;2;100;149;237mINFO    \u001b[0m | \u001b[36mSiliconDriver  \u001b[0m - Detected 1 PCI device : {0}\n",
      "\u001b[32m2024-01-23 20:20:58.596\u001b[0m | \u001b[1m\u001b[38;2;100;149;237mINFO    \u001b[0m | \u001b[36mSiliconDriver  \u001b[0m - Using 1 Hugepages/NumHostMemChannels for TTDevice (logical_device_id: 0 pci_interface_id: 0 device_id: 0xfaca revision: 0)\n",
      "\u001b[32m2024-01-23 20:20:58.719\u001b[0m | \u001b[1m\u001b[38;2;100;149;237mINFO    \u001b[0m | \u001b[36mSiliconDriver  \u001b[0m - Disable PCIE DMA\n",
      "\u001b[38;2;000;128;000m                  Metal\u001b[0m | \u001b[1m\u001b[38;2;100;149;237mINFO    \u001b[0m | AI CLK for device 0 is:   1202 MHz\n"
     ]
    }
   ],
   "source": [
    "# Switching to TTNN ops\n",
    "import ttnn\n",
    "device_id = 0\n",
    "device = ttnn.open(device_id)\n",
    "# Will need to add the following for CNN model parameters too!\n",
    "#from ttnn.model_preprocessing import preprocess_model_parameters\n",
    "\n",
    "input_tensor = ttnn.from_torch(input_tensor, dtype=ttnn.bfloat16)\n",
    "weight = ttnn.from_torch(weight, dtype=ttnn.bfloat16)\n",
    "bias = ttnn.from_torch(bias, dtype=ttnn.bfloat16)\n",
    "\n",
    "input_tensor = ttnn.to_layout(input_tensor, ttnn.TILE_LAYOUT)\n",
    "#weight = ttnn.to_layout(weight, ttnn.TILE_LAYOUT)\n",
    "\n",
    "input_tensor = ttnn.to_device(input_tensor, device)\n",
    "#weight = ttnn.to_device(weight, device)\n",
    "\n",
    "\n"
   ]
  },
  {
   "cell_type": "code",
   "execution_count": 19,
   "id": "8b6dd11d-501c-487e-bc25-3ec3e4ff317c",
   "metadata": {},
   "outputs": [
    {
     "ename": "ModuleNotFoundError",
     "evalue": "No module named 'tt_eager.tt_dnn.op_library.sliding_window_op_infra.tt_py_composite_conv'",
     "output_type": "error",
     "traceback": [
      "\u001b[0;31m---------------------------------------------------------------------------\u001b[0m",
      "\u001b[0;31mModuleNotFoundError\u001b[0m                       Traceback (most recent call last)",
      "Cell \u001b[0;32mIn[19], line 4\u001b[0m\n\u001b[1;32m      2\u001b[0m \u001b[38;5;28;01mimport\u001b[39;00m \u001b[38;5;21;01msys\u001b[39;00m\n\u001b[1;32m      3\u001b[0m sys\u001b[38;5;241m.\u001b[39mpath\u001b[38;5;241m.\u001b[39mappend(\u001b[38;5;124m\"\u001b[39m\u001b[38;5;124m/home/dvartanians/tt-metal-v0.41.0/tt-metal/models/experimental/functional_unet/reference\u001b[39m\u001b[38;5;124m\"\u001b[39m)\n\u001b[0;32m----> 4\u001b[0m \u001b[38;5;28;01mfrom\u001b[39;00m \u001b[38;5;21;01mconv\u001b[39;00m \u001b[38;5;28;01mimport\u001b[39;00m Conv2D\n\u001b[1;32m      6\u001b[0m conv_layer \u001b[38;5;241m=\u001b[39m Conv2D(in_channels\u001b[38;5;241m=\u001b[39m\u001b[38;5;241m3\u001b[39m, out_channels\u001b[38;5;241m=\u001b[39m\u001b[38;5;241m16\u001b[39m, kernel_size\u001b[38;5;241m=\u001b[39m\u001b[38;5;241m3\u001b[39m, stride\u001b[38;5;241m=\u001b[39m\u001b[38;5;241m1\u001b[39m, padding\u001b[38;5;241m=\u001b[39m\u001b[38;5;241m0\u001b[39m, bias\u001b[38;5;241m=\u001b[39mbias, weight\u001b[38;5;241m=\u001b[39mweight)\n\u001b[1;32m      7\u001b[0m \u001b[38;5;28mprint\u001b[39m(\u001b[38;5;124m\"\u001b[39m\u001b[38;5;130;01m\\n\u001b[39;00m\u001b[38;5;130;01m\\n\u001b[39;00m\u001b[38;5;130;01m\\n\u001b[39;00m\u001b[38;5;130;01m\\n\u001b[39;00m\u001b[38;5;130;01m\\n\u001b[39;00m\u001b[38;5;124mconv_layer: \u001b[39m\u001b[38;5;124m\"\u001b[39m, conv_layer)\n",
      "File \u001b[0;32m~/tt-metal-v0.41.0/tt-metal/models/experimental/functional_unet/reference/conv.py:9\u001b[0m\n\u001b[1;32m      5\u001b[0m \u001b[38;5;28;01mfrom\u001b[39;00m \u001b[38;5;21;01mtyping\u001b[39;00m \u001b[38;5;28;01mimport\u001b[39;00m Tuple, Union, Dict\n\u001b[1;32m      7\u001b[0m \u001b[38;5;28;01mimport\u001b[39;00m \u001b[38;5;21;01mttnn\u001b[39;00m\u001b[38;5;21;01m.\u001b[39;00m\u001b[38;5;21;01mtensor\u001b[39;00m \u001b[38;5;28;01mas\u001b[39;00m \u001b[38;5;21;01mttnn\u001b[39;00m\n\u001b[0;32m----> 9\u001b[0m \u001b[38;5;28;01mfrom\u001b[39;00m \u001b[38;5;21;01mtt_eager\u001b[39;00m\u001b[38;5;21;01m.\u001b[39;00m\u001b[38;5;21;01mtt_dnn\u001b[39;00m\u001b[38;5;21;01m.\u001b[39;00m\u001b[38;5;21;01mop_library\u001b[39;00m\u001b[38;5;21;01m.\u001b[39;00m\u001b[38;5;21;01msliding_window_op_infra\u001b[39;00m\u001b[38;5;21;01m.\u001b[39;00m\u001b[38;5;21;01mtt_py_composite_conv\u001b[39;00m \u001b[38;5;28;01mimport\u001b[39;00m (\n\u001b[1;32m     10\u001b[0m     TTPyCompositeConv,\n\u001b[1;32m     11\u001b[0m     SlidingWindowOpParams,\n\u001b[1;32m     12\u001b[0m )\n\u001b[1;32m     15\u001b[0m \u001b[38;5;28;01mclass\u001b[39;00m \u001b[38;5;21;01mConv2D\u001b[39;00m:\n\u001b[1;32m     16\u001b[0m     \u001b[38;5;28;01mdef\u001b[39;00m \u001b[38;5;21m__init__\u001b[39m(\n\u001b[1;32m     17\u001b[0m         \u001b[38;5;28mself\u001b[39m,\n\u001b[1;32m     18\u001b[0m         in_channels: \u001b[38;5;28mint\u001b[39m,\n\u001b[0;32m   (...)\u001b[0m\n\u001b[1;32m     40\u001b[0m         reallocate_halo_output: \u001b[38;5;28mbool\u001b[39m \u001b[38;5;241m=\u001b[39m \u001b[38;5;28;01mFalse\u001b[39;00m,\n\u001b[1;32m     41\u001b[0m     ):\n",
      "\u001b[0;31mModuleNotFoundError\u001b[0m: No module named 'tt_eager.tt_dnn.op_library.sliding_window_op_infra.tt_py_composite_conv'"
     ]
    }
   ],
   "source": [
    "# define and Apply TTNN conv function here\n",
    "import sys\n",
    "sys.path.append(\"/home/dvartanians/tt-metal-v0.41.0/tt-metal/models/experimental/functional_unet/reference\")\n",
    "from conv import Conv2D\n",
    "\n",
    "conv_layer = Conv2D(in_channels=3, out_channels=16, kernel_size=3, stride=1, padding=0, bias=bias, weight=weight)\n",
    "print(\"\\n\\n\\n\\n\\nconv_layer: \", conv_layer)\n",
    "def convolution_layer_ttnn(input_tensor, weight, bias, kernel_size=3, stride=1, padding=0):\n",
    "    # Check if the input tensor and weight have compatible shapes\n",
    "    if input_tensor.size(1) != weight.size(1):\n",
    "        raise ValueError(\"Input tensor and weight should have the same number of input channels\")\n",
    "    # Perform the convolution with bias and specified kernel size\n",
    "    conv_result_ttnn = conv_layer(input_tensor)\n",
    "    return conv_result_ttnn\n",
    "\n",
    "conv_result_ttnn = ttnn.from_device(conv_result_ttnn)\n",
    "conv_result_ttnn = ttnn.to_layout(conv_result_ttnn, ttnn.ROW_MAJOR_LAYOUT)\n",
    "conv_result_ttnn = ttnn.to_torch(conv_result_ttnn)\n",
    "\n",
    "assert_with_pcc(conv_result, conv_result_ttnn.to(torch_output.dtype), 0.999)"
   ]
  },
  {
   "cell_type": "code",
   "execution_count": null,
   "id": "ad073057-74de-4f90-bf24-855d50028246",
   "metadata": {},
   "outputs": [],
   "source": []
  }
 ],
 "metadata": {
  "kernelspec": {
   "display_name": "Python 3 (ipykernel)",
   "language": "python",
   "name": "python3"
  },
  "language_info": {
   "codemirror_mode": {
    "name": "ipython",
    "version": 3
   },
   "file_extension": ".py",
   "mimetype": "text/x-python",
   "name": "python",
   "nbconvert_exporter": "python",
   "pygments_lexer": "ipython3",
   "version": "3.8.10"
  }
 },
 "nbformat": 4,
 "nbformat_minor": 5
}
